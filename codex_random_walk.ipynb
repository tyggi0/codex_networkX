{
 "cells": [
  {
   "cell_type": "code",
   "execution_count": null,
   "id": "ad255f71-ce05-4890-96b0-bac0d461ad11",
   "metadata": {},
   "outputs": [],
   "source": [
    "!git clone https://github.com/tyggi0/codex_networkX.git --single-branch\n",
    "%cd codex_networkX"
   ]
  },
  {
   "cell_type": "code",
   "execution_count": null,
   "id": "9f9379ef-76ef-4405-b5cd-118b1c0d91d6",
   "metadata": {},
   "outputs": [],
   "source": [
    "!./extract.sh en  # unzip all KG text in English\n",
    "!pip install -r requirements.txt\n",
    "!pip install -e ."
   ]
  },
  {
   "cell_type": "code",
   "execution_count": null,
   "id": "246d75b1-67db-4ef4-9757-6a46badc53e6",
   "metadata": {},
   "outputs": [],
   "source": [
    "import warnings\n",
    "warnings.filterwarnings(\"ignore\")"
   ]
  },
  {
   "cell_type": "code",
   "execution_count": null,
   "id": "c0036cb9-6447-4a0e-bc63-e02326351871",
   "metadata": {},
   "outputs": [],
   "source": [
    "%ls /content/codex_networkX"
   ]
  },
  {
   "cell_type": "code",
   "execution_count": null,
   "id": "c25b2855-dc2e-47d9-aa1d-ca2b97eb2372",
   "metadata": {},
   "outputs": [],
   "source": [
    "!python random_walk_classifier/random_walk_classifier.py --random_walk Traditional --dataset_mode random_walks_only --encoding_format \"bert\" --tune --parent_output_dir \".\" --early_drop"
   ]
  },
  {
   "cell_type": "code",
   "execution_count": null,
   "id": "c7d1c787-688a-4f79-ad36-4a91b1b0bab3",
   "metadata": {},
   "outputs": [],
   "source": [
    "!python random_walk_classifier/random_walk_classifier.py --random_walk ERGRW --dataset_mode random_walks_only --encoding_format \"bert\" --tune --parent_output_dir \".\" --early_drop"
   ]
  },
  {
   "cell_type": "code",
   "execution_count": null,
   "id": "6bdb5a75-b021-407a-888b-726c96297952",
   "metadata": {},
   "outputs": [],
   "source": [
    "!python random_walk_classifier/random_walk_classifier.py --random_walk Adapted_ERGRW --dataset_mode random_walks_only --encoding_format \"bert\" --tune --parent_output_dir \".\" --early_drop"
   ]
  },
  {
   "cell_type": "markdown",
   "id": "b178daa1",
   "metadata": {},
   "source": [
    "With Description"
   ]
  },
  {
   "cell_type": "code",
   "execution_count": null,
   "id": "89e79380-1e7f-48cd-a5b6-4f6611d76a13",
   "metadata": {},
   "outputs": [],
   "source": [
    "!python random_walk_classifier/random_walk_classifier.py --random_walk Traditional --dataset_mode random_walks_only --encoding_format \"bert\" --tune --parent_output_dir \".\" --early_drop --description"
   ]
  },
  {
   "cell_type": "code",
   "execution_count": null,
   "id": "755367b4-4abd-4a22-9c5d-bda0e148afcc",
   "metadata": {},
   "outputs": [],
   "source": [
    "!python random_walk_classifier/random_walk_classifier.py --random_walk ERGRW --dataset_mode random_walks_only --encoding_format \"bert\" --tune --parent_output_dir \".\" --early_drop --description"
   ]
  },
  {
   "cell_type": "code",
   "execution_count": null,
   "id": "83ea01c5-72b8-4aae-b8d6-c88f07f9fa94",
   "metadata": {},
   "outputs": [],
   "source": [
    "!python random_walk_classifier/random_walk_classifier.py --random_walk Adapted_ERGRW --dataset_mode random_walks_only --encoding_format \"bert\" --tune --parent_output_dir \".\" --early_drop --description"
   ]
  },
  {
   "cell_type": "markdown",
   "id": "ea35cba0",
   "metadata": {},
   "source": [
    "CODEX ONLY"
   ]
  },
  {
   "cell_type": "code",
   "execution_count": null,
   "id": "d789ef7a",
   "metadata": {},
   "outputs": [],
   "source": [
    "!python random_walk_classifier/random_walk_classifier.py --dataset_mode codex_only --encoding_format \"bert\" --tune --parent_output_dir \".\" --early_drop"
   ]
  },
  {
   "cell_type": "markdown",
   "id": "bc891744",
   "metadata": {},
   "source": [
    "With Tag"
   ]
  },
  {
   "cell_type": "code",
   "execution_count": null,
   "id": "43756ec2",
   "metadata": {},
   "outputs": [],
   "source": [
    "!python random_walk_classifier/random_walk_classifier.py --random_walk Traditional --dataset_mode random_walks_only --encoding_format \"tag\" --tune --parent_output_dir \".\" --early_drop"
   ]
  },
  {
   "cell_type": "code",
   "execution_count": null,
   "id": "3f67b481",
   "metadata": {},
   "outputs": [],
   "source": [
    "!python random_walk_classifier/random_walk_classifier.py --random_walk ERGRW --dataset_mode random_walks_only --encoding_format \"tag\" --tune --parent_output_dir \".\" --early_drop"
   ]
  },
  {
   "cell_type": "code",
   "execution_count": null,
   "id": "a89d8fbf",
   "metadata": {},
   "outputs": [],
   "source": [
    "!python random_walk_classifier/random_walk_classifier.py --random_walk Adapted_ERGRW --dataset_mode random_walks_only --encoding_format \"tag\" --tune --parent_output_dir \".\" --early_drop"
   ]
  },
  {
   "cell_type": "code",
   "execution_count": null,
   "id": "24e4ff13",
   "metadata": {},
   "outputs": [],
   "source": [
    "!python random_walk_classifier/random_walk_classifier.py --dataset_mode codex_only --encoding_format \"tag\" --tune --parent_output_dir \".\" --early_drop"
   ]
  }
 ],
 "metadata": {
  "kernelspec": {
   "display_name": "Python 3 (ipykernel)",
   "language": "python",
   "name": "python3"
  },
  "language_info": {
   "codemirror_mode": {
    "name": "ipython",
    "version": 3
   },
   "file_extension": ".py",
   "mimetype": "text/x-python",
   "name": "python",
   "nbconvert_exporter": "python",
   "pygments_lexer": "ipython3",
   "version": "3.10.13"
  }
 },
 "nbformat": 4,
 "nbformat_minor": 5
}
